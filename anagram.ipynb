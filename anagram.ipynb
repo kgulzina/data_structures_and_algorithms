{
 "cells": [
  {
   "cell_type": "code",
   "execution_count": 37,
   "metadata": {},
   "outputs": [
    {
     "data": {
      "text/plain": [
       "False"
      ]
     },
     "execution_count": 37,
     "metadata": {},
     "output_type": "execute_result"
    }
   ],
   "source": [
    "def check_if_anagram(s1, s2):\n",
    "    # english alphabet size\n",
    "    N = 26\n",
    "    \n",
    "    # create empty lists of length n\n",
    "    alphabet1 = [0]*N\n",
    "    alphabet2 = [0]*N\n",
    "    \n",
    "    # fill in the lists\n",
    "    for i in range(len(s1)):\n",
    "        pos = ord(s1[i])-ord('a')\n",
    "        alphabet1[pos] = alphabet1[pos]+1\n",
    "    \n",
    "    for i in range(len(s2)):\n",
    "        pos = ord(s2[i])-ord('a')\n",
    "        alphabet2[pos] = alphabet2[pos]+1\n",
    "        \n",
    "    # check if two strings contain the same amount of letters from alphabet\n",
    "    MATCH = True\n",
    "    i = 0\n",
    "    while i<26 and MATCH:\n",
    "        if alphabet1[i] == alphabet2[i]:\n",
    "            i = i+1\n",
    "        else: MATCH = False\n",
    "    return MATCH\n",
    "\n",
    "check_if_anagram('jelmoguz', 'zamir')"
   ]
  }
 ],
 "metadata": {
  "kernelspec": {
   "display_name": "Python 3",
   "language": "python",
   "name": "python3"
  },
  "language_info": {
   "codemirror_mode": {
    "name": "ipython",
    "version": 3
   },
   "file_extension": ".py",
   "mimetype": "text/x-python",
   "name": "python",
   "nbconvert_exporter": "python",
   "pygments_lexer": "ipython3",
   "version": "3.7.0"
  }
 },
 "nbformat": 4,
 "nbformat_minor": 2
}
