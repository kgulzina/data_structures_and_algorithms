{
 "cells": [
  {
   "cell_type": "code",
   "execution_count": 1,
   "metadata": {},
   "outputs": [],
   "source": [
    "# We will utilize \"deques\" concept to solve the \"Palidrome-Checker\" problem\n",
    "\n",
    "# Deques are linear data structures, which has \"rear\" and \"front\" ends\n",
    "# Encorporates both operations of stacks and queues\n",
    "# Does not follow the either property \"LIFO\" or \"FIFO\"\n",
    "# Implement the abstract data type Python data type as follows:\n",
    "\n",
    "# It has 7 operations:\n",
    "# Deque() -- creates an empty deque\n",
    "# isEmpty() -- to check if deque is empty\n",
    "# addFront(item) -- add a new item to the \"front\" of the deque\n",
    "# addRear(item) -- add a new item to the \"rear\" of the deque\n",
    "# removeFront() -- remove an item from the \"front\" end\n",
    "# removeRear() -- remove an item from the \"rear\" end\n",
    "# size() -- returns the size of the deque\n",
    "\n",
    "class Deque:\n",
    "    def __init__(self):\n",
    "        self.items = []\n",
    "\n",
    "    def isEmpty(self):\n",
    "        return self.items == []\n",
    "\n",
    "    def addFront(self, item):\n",
    "        self.items.append(item)\n",
    "\n",
    "    def addRear(self, item):\n",
    "        self.items.insert(0,item)\n",
    "\n",
    "    def removeFront(self):\n",
    "        return self.items.pop()\n",
    "\n",
    "    def removeRear(self):\n",
    "        return self.items.pop(0)\n",
    "\n",
    "    def size(self):\n",
    "        return len(self.items)"
   ]
  },
  {
   "cell_type": "code",
   "execution_count": 7,
   "metadata": {},
   "outputs": [
    {
     "data": {
      "text/plain": [
       "True"
      ]
     },
     "execution_count": 7,
     "metadata": {},
     "output_type": "execute_result"
    }
   ],
   "source": [
    "def check_if_palindrome(string):\n",
    "    '''\n",
    "    Check if the given string is palindrome\n",
    "    input: a string(str) - collection of characters\n",
    "    output: (Boolean) - True if a string is palindrome, else False\n",
    "    '''\n",
    "    \n",
    "    # create an empty deque\n",
    "    deque = Deque()\n",
    "    \n",
    "    # add every character of string into the deque\n",
    "    for char in string:\n",
    "        deque.addFront(char)\n",
    "    \n",
    "    # check if items at both ends are similar\n",
    "    while deque.size()>1:\n",
    "        if deque.removeFront() == deque.removeRear():\n",
    "            deque.removeFront()\n",
    "            deque.removeRear()\n",
    "        else: return False\n",
    "    \n",
    "    return True\n",
    "\n",
    "check_if_palindrome('zazaz')"
   ]
  }
 ],
 "metadata": {
  "kernelspec": {
   "display_name": "Python 3",
   "language": "python",
   "name": "python3"
  },
  "language_info": {
   "codemirror_mode": {
    "name": "ipython",
    "version": 3
   },
   "file_extension": ".py",
   "mimetype": "text/x-python",
   "name": "python",
   "nbconvert_exporter": "python",
   "pygments_lexer": "ipython3",
   "version": "3.7.0"
  }
 },
 "nbformat": 4,
 "nbformat_minor": 2
}
