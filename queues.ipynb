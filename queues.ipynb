{
 "cells": [
  {
   "cell_type": "code",
   "execution_count": 1,
   "metadata": {},
   "outputs": [],
   "source": [
    "# We will utilize \"queues\" concept to solve the \"Hot potato\" problem\n",
    "\n",
    "# Queues are linear data structures, which has \"rear\" and \"front\" ends\n",
    "# Follows the property \"FIFO\" - first-in-first-out\n",
    "# Implement the abstract data type Python data type as follows:\n",
    "\n",
    "# It has 5 operations:\n",
    "# Queue() -- creates an empty queue\n",
    "# isEmpty() -- to check if queue is empty\n",
    "# enqueue() -- add a new item to the \"rear\" of the queue\n",
    "# dequeue() -- remove an item from the \"front\" end\n",
    "# size() -- returns the size of the queue\n",
    "\n",
    "class Queue:\n",
    "    def __init__(self):\n",
    "        self.items = []\n",
    "\n",
    "    def isEmpty(self):\n",
    "        return self.items == []\n",
    "\n",
    "    def enqueue(self, item):\n",
    "        self.items.insert(0,item)\n",
    "\n",
    "    def dequeue(self):\n",
    "        return self.items.pop()\n",
    "\n",
    "    def size(self):\n",
    "        return len(self.items)"
   ]
  },
  {
   "cell_type": "code",
   "execution_count": 9,
   "metadata": {},
   "outputs": [
    {
     "data": {
      "text/plain": [
       "'Jane'"
      ]
     },
     "execution_count": 9,
     "metadata": {},
     "output_type": "execute_result"
    }
   ],
   "source": [
    "def hot_potato(names, rule):\n",
    "    '''\n",
    "    Imitates the game 'Hot potato'\n",
    "    input: collection of strings(names), playing that game\n",
    "    output: a string(name), who wins(left at the end)\n",
    "    '''\n",
    "    # create an empty queue\n",
    "    queue = Queue()\n",
    "    \n",
    "    # put every player into the queue\n",
    "    for player in names:\n",
    "        queue.enqueue(player)\n",
    "        \n",
    "    while queue.size()>1:\n",
    "        for i in range(rule):\n",
    "            queue.enqueue(queue.dequeue())\n",
    "        \n",
    "        # kick out the loser\n",
    "        queue.dequeue()\n",
    "    \n",
    "    # return the winner\n",
    "    return queue.dequeue()\n",
    "\n",
    "\n",
    "hot_potato([\"Bill\",\"David\",\"Susan\",\"Jane\",\"Kent\",\"Brad\"],5)\n",
    "    \n",
    " "
   ]
  },
  {
   "cell_type": "code",
   "execution_count": null,
   "metadata": {},
   "outputs": [],
   "source": [
    "def printing_tasks():\n",
    "    '''\n",
    "    \n",
    "    '''"
   ]
  }
 ],
 "metadata": {
  "kernelspec": {
   "display_name": "Python 3",
   "language": "python",
   "name": "python3"
  },
  "language_info": {
   "codemirror_mode": {
    "name": "ipython",
    "version": 3
   },
   "file_extension": ".py",
   "mimetype": "text/x-python",
   "name": "python",
   "nbconvert_exporter": "python",
   "pygments_lexer": "ipython3",
   "version": "3.7.0"
  }
 },
 "nbformat": 4,
 "nbformat_minor": 2
}
