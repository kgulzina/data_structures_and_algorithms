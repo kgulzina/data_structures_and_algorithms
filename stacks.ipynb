{
 "cells": [
  {
   "cell_type": "code",
   "execution_count": 2,
   "metadata": {},
   "outputs": [],
   "source": [
    "# We will utilize \"stacks\" concept to solve the problem of \"Unbalanced parantheses\"\n",
    "\n",
    "# Stack are linear data structures, which has \"top\" and \"base\" ends. \n",
    "# Follows the property \"LIFO\": last-in-first-out\n",
    "# Implement the abstract data type into Python data type as follows:\n",
    "\n",
    "# It has 5 operations\n",
    "# Stack() -- creates an empty stack\n",
    "# isEmpty() -- to check if stack is empty\n",
    "# push() -- pushes a new item to the \"top\"\n",
    "# pop() -- removes and returns the newest item from the \"top\"\n",
    "# peek() -- returns the item on the \"top\", stack remains unchanged\n",
    "# size() -- returns the size of stack\n",
    "\n",
    "class Stack:\n",
    "    def __init__(self):\n",
    "        self.items = []\n",
    "    \n",
    "    def isEmpty(self):\n",
    "        return self.items == []\n",
    "\n",
    "    def push(self, item):\n",
    "        self.items.append(item) \n",
    "\n",
    "    def pop(self):\n",
    "        return self.items.pop() \n",
    "\n",
    "    def peek(self):\n",
    "        return self.items[len(self.items)-1]\n",
    "\n",
    "    def size(self):\n",
    "        return len(self.items)"
   ]
  },
  {
   "cell_type": "code",
   "execution_count": 3,
   "metadata": {},
   "outputs": [
    {
     "data": {
      "text/plain": [
       "False"
      ]
     },
     "execution_count": 3,
     "metadata": {},
     "output_type": "execute_result"
    }
   ],
   "source": [
    "def check_balance(string):\n",
    "    \"\"\"\n",
    "    Checks if parantheses are balanced\n",
    "    input: string(str) - collection of characters\n",
    "    output: (Boolean) - True if parantheses are balanced, else False\n",
    "    \"\"\"\n",
    "    \n",
    "    # constants\n",
    "    OPEN = '('\n",
    "    CLOSED = ')'\n",
    "    \n",
    "    # create an empty stack\n",
    "    st = Stack()\n",
    "    \n",
    "    for char in string:\n",
    "        if char == OPEN:\n",
    "            st.push(char)\n",
    "        elif char == CLOSED:\n",
    "            if not(st.isEmpty()):\n",
    "                st.pop()\n",
    "            else: return False\n",
    "    \n",
    "    # check if stack is empty\n",
    "    if st.isEmpty():\n",
    "        return True\n",
    "    else: \n",
    "        return False\n",
    "    \n",
    "\n",
    "check_balance('((())') # should return false"
   ]
  },
  {
   "cell_type": "code",
   "execution_count": 21,
   "metadata": {},
   "outputs": [
    {
     "data": {
      "text/plain": [
       "True"
      ]
     },
     "execution_count": 21,
     "metadata": {},
     "output_type": "execute_result"
    }
   ],
   "source": [
    "# The general case:\n",
    "def get_index(char):\n",
    "    '''\n",
    "    Gets index of the parantheses\n",
    "    input: paranthesis(str)\n",
    "    output: index(integer)\n",
    "    '''\n",
    "    # constants\n",
    "    OPEN = ['(', '{', '[']\n",
    "    CLOSED = [')', '}', ']']\n",
    "    \n",
    "    if char in OPEN:\n",
    "        index = OPEN.index(char)\n",
    "    else: \n",
    "        index = CLOSED.index(char)\n",
    "    \n",
    "    return index\n",
    "\n",
    "\n",
    "def check_balance_gen(string):\n",
    "    '''\n",
    "    Checks if parantheses are balanced (General case: ()[]{})\n",
    "    input: string(str) - collection of parantheses\n",
    "    output: (Boolean) - True if parantheses are balanced, False otherwise.\n",
    "    '''\n",
    "    \n",
    "    # constants\n",
    "    OPEN = '({['\n",
    "    CLOSED = ')}]'\n",
    "    \n",
    "    #create an empty stack\n",
    "    st = Stack()\n",
    "    \n",
    "    for char in string:\n",
    "        if char in OPEN:\n",
    "            st.push(char)\n",
    "        elif char in CLOSED:\n",
    "            if not(st.isEmpty()):\n",
    "                top = get_index(st.peek())\n",
    "                char_index = get_index(char)\n",
    "                if char_index == top:\n",
    "                    st.pop()\n",
    "                else: return False\n",
    "            else: return False\n",
    "    \n",
    "    # check if stack is empty\n",
    "    if st.isEmpty():\n",
    "        return True\n",
    "    else: \n",
    "        return False\n",
    "    \n",
    "check_balance_gen('{ { ( [ ] [ ] ) } ( ) }')"
   ]
  },
  {
   "cell_type": "code",
   "execution_count": 23,
   "metadata": {},
   "outputs": [
    {
     "data": {
      "text/plain": [
       "False"
      ]
     },
     "execution_count": 23,
     "metadata": {},
     "output_type": "execute_result"
    }
   ],
   "source": [
    "check_balance_gen('{ { ( [ ] [ ] ) } ( ) ')"
   ]
  },
  {
   "cell_type": "code",
   "execution_count": 45,
   "metadata": {
    "scrolled": true
   },
   "outputs": [
    {
     "data": {
      "text/plain": [
       "'11101001'"
      ]
     },
     "execution_count": 45,
     "metadata": {},
     "output_type": "execute_result"
    }
   ],
   "source": [
    "def decimal_to_binary(num):\n",
    "    '''\n",
    "    Gets a binary repsentation of decimal number\n",
    "    input: integer(decimal)\n",
    "    output: binary\n",
    "    '''\n",
    "    \n",
    "    # create an empty stack\n",
    "    st = Stack()\n",
    "    \n",
    "    # push the first\n",
    "    \n",
    "    while num != 0:\n",
    "        st.push(num%2)\n",
    "        num = num//2\n",
    "    \n",
    "    size = st.size()\n",
    "    binary = ''\n",
    "    \n",
    "    for i in range(size):\n",
    "        binary = binary + str(st.pop())\n",
    "\n",
    "    return binary\n",
    "\n",
    "\n",
    "decimal_to_binary(233)"
   ]
  }
 ],
 "metadata": {
  "kernelspec": {
   "display_name": "Python 3",
   "language": "python",
   "name": "python3"
  },
  "language_info": {
   "codemirror_mode": {
    "name": "ipython",
    "version": 3
   },
   "file_extension": ".py",
   "mimetype": "text/x-python",
   "name": "python",
   "nbconvert_exporter": "python",
   "pygments_lexer": "ipython3",
   "version": "3.7.0"
  }
 },
 "nbformat": 4,
 "nbformat_minor": 2
}
